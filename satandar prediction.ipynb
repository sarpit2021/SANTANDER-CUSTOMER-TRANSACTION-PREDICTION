{
 "cells": [
  {
   "cell_type": "code",
   "execution_count": 4,
   "metadata": {},
   "outputs": [],
   "source": [
    "#Loading libraries\n",
    "import os\n",
    "import pandas as pd\n",
    "import numpy as np\n",
    "import matplotlib.pyplot as plt\n",
    "import seaborn as sns\n",
    "import statsmodels.api as sm\n",
    "from random import randrange, uniform"
   ]
  },
  {
   "cell_type": "code",
   "execution_count": 5,
   "metadata": {},
   "outputs": [],
   "source": [
    "#Setting working directory\n",
    "os.chdir(\"C:\\\\Users\\\\aditya joshi\\\\Edwisor\\\\satandar prediction analysis\")"
   ]
  },
  {
   "cell_type": "code",
   "execution_count": 6,
   "metadata": {},
   "outputs": [],
   "source": [
    "#Loading data\n",
    "train = pd.read_csv(\"train.csv\")"
   ]
  },
  {
   "cell_type": "code",
   "execution_count": 7,
   "metadata": {},
   "outputs": [],
   "source": [
    "test = pd.read_csv(\"test.csv\")"
   ]
  },
  {
   "cell_type": "code",
   "execution_count": 8,
   "metadata": {},
   "outputs": [
    {
     "data": {
      "text/plain": [
       "ID_code    0\n",
       "target     0\n",
       "var_0      0\n",
       "var_1      0\n",
       "var_2      0\n",
       "var_3      0\n",
       "var_4      0\n",
       "var_5      0\n",
       "var_6      0\n",
       "var_7      0\n",
       "var_8      0\n",
       "var_9      0\n",
       "var_10     0\n",
       "var_11     0\n",
       "var_12     0\n",
       "var_13     0\n",
       "var_14     0\n",
       "var_15     0\n",
       "var_16     0\n",
       "var_17     0\n",
       "var_18     0\n",
       "var_19     0\n",
       "var_20     0\n",
       "var_21     0\n",
       "var_22     0\n",
       "var_23     0\n",
       "var_24     0\n",
       "var_25     0\n",
       "var_26     0\n",
       "var_27     0\n",
       "          ..\n",
       "var_170    0\n",
       "var_171    0\n",
       "var_172    0\n",
       "var_173    0\n",
       "var_174    0\n",
       "var_175    0\n",
       "var_176    0\n",
       "var_177    0\n",
       "var_178    0\n",
       "var_179    0\n",
       "var_180    0\n",
       "var_181    0\n",
       "var_182    0\n",
       "var_183    0\n",
       "var_184    0\n",
       "var_185    0\n",
       "var_186    0\n",
       "var_187    0\n",
       "var_188    0\n",
       "var_189    0\n",
       "var_190    0\n",
       "var_191    0\n",
       "var_192    0\n",
       "var_193    0\n",
       "var_194    0\n",
       "var_195    0\n",
       "var_196    0\n",
       "var_197    0\n",
       "var_198    0\n",
       "var_199    0\n",
       "Length: 202, dtype: int64"
      ]
     },
     "execution_count": 8,
     "metadata": {},
     "output_type": "execute_result"
    }
   ],
   "source": [
    "#missing value \n",
    "train.isnull().sum()"
   ]
  },
  {
   "cell_type": "code",
   "execution_count": 9,
   "metadata": {},
   "outputs": [],
   "source": [
    "colnames = list(train.columns[2:])"
   ]
  },
  {
   "cell_type": "code",
   "execution_count": 10,
   "metadata": {},
   "outputs": [
    {
     "data": {
      "text/plain": [
       "<matplotlib.axes._subplots.AxesSubplot at 0x19fb0b95b00>"
      ]
     },
     "execution_count": 10,
     "metadata": {},
     "output_type": "execute_result"
    },
    {
     "data": {
      "image/png": "[encoded data removed]",
      "text/plain": [
       "<Figure size 432x288 with 1 Axes>"
      ]
     },
     "metadata": {
      "needs_background": "light"
     },
     "output_type": "display_data"
    }
   ],
   "source": [
    "#distribution of traget variable\n",
    "train['target'].hist()"
   ]
  },
  {
   "cell_type": "code",
   "execution_count": 11,
   "metadata": {},
   "outputs": [],
   "source": [
    "#Detecting and deleting outliers from data\n",
    "for i in colnames:\n",
    "   \n",
    "    q75, q25 = np.percentile(train.loc[:,i], [75 ,25])\n",
    "    iqr = q75 - q25\n",
    "\n",
    "    minimum = q25 - (iqr*1.5)\n",
    "    maximum = q75 + (iqr*1.5)\n",
    "   \n",
    "    \n",
    "    train = train.drop(train[train.loc[:,i] < minimum].index)\n",
    "    train = train.drop(train[train.loc[:,i] > maximum].index)"
   ]
  },
  {
   "cell_type": "code",
   "execution_count": 12,
   "metadata": {},
   "outputs": [
    {
     "data": {
      "text/plain": [
       "(175073, 202)"
      ]
     },
     "execution_count": 12,
     "metadata": {},
     "output_type": "execute_result"
    }
   ],
   "source": [
    "train.shape"
   ]
  },
  {
   "cell_type": "code",
   "execution_count": null,
   "metadata": {},
   "outputs": [],
   "source": [
    "#correlation analysis"
   ]
  },
  {
   "cell_type": "code",
   "execution_count": 13,
   "metadata": {},
   "outputs": [],
   "source": [
    "df1_corr = train.loc[:,colnames]"
   ]
  },
  {
   "cell_type": "code",
   "execution_count": 14,
   "metadata": {},
   "outputs": [
    {
     "data": {
      "text/plain": [
       "<matplotlib.axes._subplots.AxesSubplot at 0x19fc8238eb8>"
      ]
     },
     "execution_count": 14,
     "metadata": {},
     "output_type": "execute_result"
    },
    {
     "data": {
      "image/png": "[encoded data removed]",
      "text/plain": [
       "<Figure size 504x360 with 2 Axes>"
      ]
     },
     "metadata": {
      "needs_background": "light"
     },
     "output_type": "display_data"
    }
   ],
   "source": [
    "#Setting the width and hieght of the plot\n",
    "f, ax = plt.subplots(figsize=(7, 5))\n",
    "\n",
    "#Generating correlation matrix\n",
    "corr = df1_corr.corr()\n",
    "\n",
    "# Generating a mask for the upper triangle\n",
    "mask = np.zeros_like(corr, dtype=np.bool)\n",
    "mask[np.triu_indices_from(mask)] = True\n",
    "\n",
    "#Plot using seaborn library\n",
    "sns.heatmap(corr, mask=np.zeros_like(corr, dtype=np.bool), cmap=sns.diverging_palette(220, 10, as_cmap=True),\n",
    "            square=True, ax=ax)\n"
   ]
  },
  {
   "cell_type": "code",
   "execution_count": 15,
   "metadata": {},
   "outputs": [],
   "source": [
    "#for visualization of normalization\n",
    "cnames = train.iloc[:,2:25]"
   ]
  },
  {
   "cell_type": "code",
   "execution_count": 16,
   "metadata": {},
   "outputs": [],
   "source": [
    "df = pd.DataFrame(cnames)\n",
    "df.to_csv( \"normalization.csv\",index = False)\n",
    "data = pd.read_csv(\"normalization.csv\")"
   ]
  },
  {
   "cell_type": "code",
   "execution_count": 17,
   "metadata": {},
   "outputs": [
    {
     "data": {
      "text/plain": [
       "array([[<matplotlib.axes._subplots.AxesSubplot object at 0x0000019FD210B8D0>,\n",
       "        <matplotlib.axes._subplots.AxesSubplot object at 0x0000019FD210FB38>,\n",
       "        <matplotlib.axes._subplots.AxesSubplot object at 0x0000019FD3F85080>,\n",
       "        <matplotlib.axes._subplots.AxesSubplot object at 0x0000019FD3F605C0>,\n",
       "        <matplotlib.axes._subplots.AxesSubplot object at 0x0000019FCBBBDB38>],\n",
       "       [<matplotlib.axes._subplots.AxesSubplot object at 0x0000019FDF46F0F0>,\n",
       "        <matplotlib.axes._subplots.AxesSubplot object at 0x0000019FDF449668>,\n",
       "        <matplotlib.axes._subplots.AxesSubplot object at 0x0000019FB3E12C18>,\n",
       "        <matplotlib.axes._subplots.AxesSubplot object at 0x0000019FB3E12C50>,\n",
       "        <matplotlib.axes._subplots.AxesSubplot object at 0x0000019FCC65E710>],\n",
       "       [<matplotlib.axes._subplots.AxesSubplot object at 0x0000019FDB814C88>,\n",
       "        <matplotlib.axes._subplots.AxesSubplot object at 0x0000019FE0B94240>,\n",
       "        <matplotlib.axes._subplots.AxesSubplot object at 0x0000019FE0BB87B8>,\n",
       "        <matplotlib.axes._subplots.AxesSubplot object at 0x0000019FB21CDD30>,\n",
       "        <matplotlib.axes._subplots.AxesSubplot object at 0x0000019FB21FD2E8>],\n",
       "       [<matplotlib.axes._subplots.AxesSubplot object at 0x0000019FB2220860>,\n",
       "        <matplotlib.axes._subplots.AxesSubplot object at 0x0000019FB2246DD8>,\n",
       "        <matplotlib.axes._subplots.AxesSubplot object at 0x0000019FB2272390>,\n",
       "        <matplotlib.axes._subplots.AxesSubplot object at 0x0000019FB2296908>,\n",
       "        <matplotlib.axes._subplots.AxesSubplot object at 0x0000019FB22BDE80>],\n",
       "       [<matplotlib.axes._subplots.AxesSubplot object at 0x0000019FB22E8438>,\n",
       "        <matplotlib.axes._subplots.AxesSubplot object at 0x0000019FB230F9B0>,\n",
       "        <matplotlib.axes._subplots.AxesSubplot object at 0x0000019FB2334F28>,\n",
       "        <matplotlib.axes._subplots.AxesSubplot object at 0x0000019FB235F4A8>,\n",
       "        <matplotlib.axes._subplots.AxesSubplot object at 0x0000019FB2386A20>]],\n",
       "      dtype=object)"
      ]
     },
     "execution_count": 17,
     "metadata": {},
     "output_type": "execute_result"
    },
    {
     "data": {
      "image/png": "[encoded data removed]",
      "text/plain": [
       "<Figure size 432x288 with 25 Axes>"
      ]
     },
     "metadata": {
      "needs_background": "light"
     },
     "output_type": "display_data"
    }
   ],
   "source": [
    "data.hist()"
   ]
  },
  {
   "cell_type": "code",
   "execution_count": 18,
   "metadata": {},
   "outputs": [],
   "source": [
    "#Nomalisation\n",
    "for j in cnames:\n",
    "    #print(i)\n",
    "    train[j] = (train[j] - min(train[j]))/(max(train[j]) - min(train[j]))"
   ]
  },
  {
   "cell_type": "code",
   "execution_count": null,
   "metadata": {},
   "outputs": [],
   "source": [
    "#Model Development"
   ]
  },
  {
   "cell_type": "code",
   "execution_count": 19,
   "metadata": {},
   "outputs": [],
   "source": [
    "#Importing Libraries for decision tree\n",
    "from sklearn import tree\n",
    "from sklearn.metrics import accuracy_score\n",
    "from sklearn.model_selection import train_test_split"
   ]
  },
  {
   "cell_type": "code",
   "execution_count": 20,
   "metadata": {},
   "outputs": [],
   "source": [
    "#replacing target categories with Yes or No\n",
    "train['target'] = train['target'].replace(0, 'No')\n",
    "train['target'] = train['target'].replace(1, 'Yes')"
   ]
  },
  {
   "cell_type": "code",
   "execution_count": 21,
   "metadata": {},
   "outputs": [],
   "source": [
    "#Dividing data into train and test\n",
    "X = train.values[:, 2:]\n",
    "Y = train.iloc[:,1]\n",
    "\n",
    "X_train, X_test, y_train, y_test = train_test_split( X, Y, test_size = 0.2)"
   ]
  },
  {
   "cell_type": "code",
   "execution_count": 22,
   "metadata": {
    "scrolled": true
   },
   "outputs": [],
   "source": [
    "#Decision Tree\n",
    "Ctree_model = tree.DecisionTreeClassifier(criterion='entropy').fit(X_train, y_train)\n",
    "\n",
    "#predicting new test cases\n",
    "Ctree_Predictions = Ctree_model.predict(X_test)"
   ]
  },
  {
   "cell_type": "code",
   "execution_count": 25,
   "metadata": {},
   "outputs": [],
   "source": [
    "#building confusion matrix\n",
    "# from sklearn.metrics import confusion_matrix \n",
    "# Con_mat = confusion_matrix(y_test, y_pred)\n",
    "Con_mat = pd.crosstab(y_test, Ctree_Predictions)\n",
    "\n",
    "#let us save TP, TN, FP, FN\n",
    "TN = Con_mat.iloc[0,0]\n",
    "FN = Con_mat.iloc[1,0]\n",
    "TP = Con_mat.iloc[1,1]\n",
    "FP = Con_mat.iloc[0,1]"
   ]
  },
  {
   "cell_type": "code",
   "execution_count": 26,
   "metadata": {},
   "outputs": [
    {
     "data": {
      "text/plain": [
       "83.90404112523204"
      ]
     },
     "execution_count": 26,
     "metadata": {},
     "output_type": "execute_result"
    }
   ],
   "source": [
    "#dt accuracy\n",
    "((TP+TN)*100)/(TP+TN+FP+FN)"
   ]
  },
  {
   "cell_type": "code",
   "execution_count": 27,
   "metadata": {},
   "outputs": [
    {
     "data": {
      "text/plain": [
       "19.005681818181817"
      ]
     },
     "execution_count": 27,
     "metadata": {},
     "output_type": "execute_result"
    }
   ],
   "source": [
    "#dt precision\n",
    "TP*100/(TP+FP)"
   ]
  },
  {
   "cell_type": "code",
   "execution_count": 28,
   "metadata": {},
   "outputs": [
    {
     "data": {
      "text/plain": [
       "19.368847712796757"
      ]
     },
     "execution_count": 28,
     "metadata": {},
     "output_type": "execute_result"
    }
   ],
   "source": [
    "#recall \n",
    "TP*100/(TP+FN)"
   ]
  },
  {
   "cell_type": "code",
   "execution_count": 29,
   "metadata": {},
   "outputs": [
    {
     "data": {
      "text/plain": [
       "80.63115228720324"
      ]
     },
     "execution_count": 29,
     "metadata": {},
     "output_type": "execute_result"
    }
   ],
   "source": [
    "#false Negative Rate\n",
    "(FN*100)/(FN+TP)"
   ]
  },
  {
   "cell_type": "code",
   "execution_count": null,
   "metadata": {},
   "outputs": [],
   "source": [
    "#decision tree\n",
    "#accuracy = 83.3\n",
    "#precision = 18.99\n",
    "#recall = 19.0\n",
    "#fnr = 80.9"
   ]
  },
  {
   "cell_type": "code",
   "execution_count": 30,
   "metadata": {},
   "outputs": [],
   "source": [
    "#replacing target categories with 0 or 1\n",
    "train['target'] = train['target'].replace('No',0)\n",
    "train['target'] = train['target'].replace('Yes',1)"
   ]
  },
  {
   "cell_type": "code",
   "execution_count": 32,
   "metadata": {},
   "outputs": [],
   "source": [
    "#Logistic Regression "
   ]
  },
  {
   "cell_type": "code",
   "execution_count": 31,
   "metadata": {},
   "outputs": [],
   "source": [
    "#Dividing data into train and test\n",
    "X = train.values[:, 2:]\n",
    "Y = train.iloc[:,1]\n",
    "X_train, X_test, y_train, y_test = train_test_split( X, Y, test_size = 0.2)"
   ]
  },
  {
   "cell_type": "code",
   "execution_count": 33,
   "metadata": {},
   "outputs": [],
   "source": [
    "from sklearn.linear_model import LogisticRegression\n",
    "from sklearn import metrics"
   ]
  },
  {
   "cell_type": "code",
   "execution_count": 34,
   "metadata": {},
   "outputs": [
    {
     "name": "stderr",
     "output_type": "stream",
     "text": [
      "C:\\Users\\aditya joshi\\Anaconda3\\lib\\site-packages\\sklearn\\linear_model\\logistic.py:433: FutureWarning: Default solver will be changed to 'lbfgs' in 0.22. Specify a solver to silence this warning.\n",
      "  FutureWarning)\n"
     ]
    },
    {
     "data": {
      "text/plain": [
       "LogisticRegression(C=1.0, class_weight=None, dual=False, fit_intercept=True,\n",
       "          intercept_scaling=1, max_iter=100, multi_class='warn',\n",
       "          n_jobs=None, penalty='l2', random_state=None, solver='warn',\n",
       "          tol=0.0001, verbose=0, warm_start=False)"
      ]
     },
     "execution_count": 34,
     "metadata": {},
     "output_type": "execute_result"
    }
   ],
   "source": [
    "lr = LogisticRegression()\n",
    "lr.fit(X_train, y_train)"
   ]
  },
  {
   "cell_type": "code",
   "execution_count": 31,
   "metadata": {},
   "outputs": [],
   "source": [
    "y_pred = lr.predict(X_test)"
   ]
  },
  {
   "cell_type": "code",
   "execution_count": 43,
   "metadata": {},
   "outputs": [],
   "source": [
    "probs = lr.predict_proba(X_test)\n",
    "preds = probs[:,1]\n",
    "fpr, tpr, threshold = metrics.roc_curve(y_test, preds)\n",
    "roc_aucc = metrics.auc(fpr, tpr)"
   ]
  },
  {
   "cell_type": "code",
   "execution_count": 44,
   "metadata": {},
   "outputs": [
    {
     "data": {
      "image/png": "[encoded data removed]",
      "text/plain": [
       "<Figure size 432x288 with 1 Axes>"
      ]
     },
     "metadata": {
      "needs_background": "light"
     },
     "output_type": "display_data"
    }
   ],
   "source": [
    "plt.title('AUC CURVE')\n",
    "plt.plot(fpr, tpr, 'b', label = 'AUC = %0.2f' % roc_aucc)\n",
    "plt.legend(loc = 'lower right')\n",
    "plt.plot([0, 1], [0, 1],'r--')\n",
    "plt.xlim([0, 1])\n",
    "plt.ylim([0, 1])\n",
    "plt.ylabel('True Positive Rate')\n",
    "plt.xlabel('False Positive Rate')\n",
    "plt.show()"
   ]
  },
  {
   "cell_type": "code",
   "execution_count": 39,
   "metadata": {},
   "outputs": [
    {
     "data": {
      "text/plain": [
       "91.48650578323576"
      ]
     },
     "execution_count": 39,
     "metadata": {},
     "output_type": "execute_result"
    }
   ],
   "source": [
    "#Building confusion matrix\n",
    "Con_mat = pd.crosstab(y_test, y_pred)\n",
    "#confusion_matrix(y_test, y_pred)\n",
    "\n",
    "#let us save TP, TN, FP, FN\n",
    "TN = Con_mat.iloc[0,0]\n",
    "FN = Con_mat.iloc[1,0]\n",
    "TP = Con_mat.iloc[1,1]\n",
    "FP = Con_mat.iloc[0,1]\n",
    "\n",
    "#check accuracy of model\n",
    "#accuracy_score(y_test, y_pred)*100\n",
    "((TP+TN)*100)/(TP+TN+FP+FN)"
   ]
  },
  {
   "cell_type": "code",
   "execution_count": 40,
   "metadata": {},
   "outputs": [
    {
     "data": {
      "text/plain": [
       "66.91900075700227"
      ]
     },
     "execution_count": 40,
     "metadata": {},
     "output_type": "execute_result"
    }
   ],
   "source": [
    "#precision\n",
    "TP*100/(TP+FP)"
   ]
  },
  {
   "cell_type": "code",
   "execution_count": 42,
   "metadata": {},
   "outputs": [
    {
     "data": {
      "text/plain": [
       "25.787631271878645"
      ]
     },
     "execution_count": 42,
     "metadata": {},
     "output_type": "execute_result"
    }
   ],
   "source": [
    "#recall \n",
    "TP*100/(TP+FN)"
   ]
  },
  {
   "cell_type": "code",
   "execution_count": 41,
   "metadata": {},
   "outputs": [
    {
     "data": {
      "text/plain": [
       "74.21236872812135"
      ]
     },
     "execution_count": 41,
     "metadata": {},
     "output_type": "execute_result"
    }
   ],
   "source": [
    "#false Negative Rate\n",
    "(FN*100)/(FN+TP)"
   ]
  },
  {
   "cell_type": "code",
   "execution_count": 70,
   "metadata": {},
   "outputs": [
    {
     "data": {
      "text/plain": [
       "(200000, 202)"
      ]
     },
     "execution_count": 70,
     "metadata": {},
     "output_type": "execute_result"
    }
   ],
   "source": [
    "#Logestic Regression\n",
    "#Accuracy = 91.4\n",
    "#Precision = 67.7\n",
    "#recall = 26.7\n",
    "#FNR = 73.9\n",
    "#AUC = 0.86\n",
    "\n",
    "#accuracy = 83.3\n",
    "#precision = 18.99\n",
    "#recall = 19.0\n",
    "#fnr = 80.9"
   ]
  },
  {
   "cell_type": "code",
   "execution_count": 10,
   "metadata": {},
   "outputs": [],
   "source": [
    "#Naive Bayes\n",
    "from sklearn.naive_bayes import GaussianNB"
   ]
  },
  {
   "cell_type": "code",
   "execution_count": 11,
   "metadata": {},
   "outputs": [],
   "source": [
    "\n",
    "#Naive Bayes implementation\n",
    "NBay_model = GaussianNB().fit(X_train, y_train)"
   ]
  },
  {
   "cell_type": "code",
   "execution_count": 21,
   "metadata": {},
   "outputs": [],
   "source": [
    "#predict test cases\n",
    "NBay_Predictions = NBay_model.predict(test.iloc[:,1:])"
   ]
  },
  {
   "cell_type": "code",
   "execution_count": 23,
   "metadata": {},
   "outputs": [],
   "source": [
    "result = pd.DataFrame(NBay_Predictions)"
   ]
  },
  {
   "cell_type": "code",
   "execution_count": 29,
   "metadata": {},
   "outputs": [],
   "source": [
    "result = result.join(test['ID_code'])"
   ]
  },
  {
   "cell_type": "code",
   "execution_count": 40,
   "metadata": {},
   "outputs": [],
   "source": [
    "df = result.to_csv( \"result.csv\",index = False)\n"
   ]
  },
  {
   "cell_type": "code",
   "execution_count": 21,
   "metadata": {},
   "outputs": [
    {
     "data": {
      "text/plain": [
       "65.16919486581097"
      ]
     },
     "execution_count": 21,
     "metadata": {},
     "output_type": "execute_result"
    }
   ],
   "source": [
    "#Build confusion matrix\n",
    "Con_mat = pd.crosstab(y_test, NBay_Predictions)\n",
    "\n",
    "#let us save TP, TN, FP, FN\n",
    "TN = Con_mat.iloc[0,0]\n",
    "FN = Con_mat.iloc[1,0]\n",
    "TP = Con_mat.iloc[1,1]\n",
    "FP = Con_mat.iloc[0,1]\n",
    "\n",
    "\n",
    "#False Negative rate \n",
    "(FN*100)/(FN+TP)"
   ]
  },
  {
   "cell_type": "code",
   "execution_count": 22,
   "metadata": {},
   "outputs": [
    {
     "data": {
      "text/plain": [
       "92.12337569613022"
      ]
     },
     "execution_count": 22,
     "metadata": {},
     "output_type": "execute_result"
    }
   ],
   "source": [
    "#accuracy_score(y_test, y_pred)*100\n",
    "((TP+TN)*100)/(TP+TN+FP+FN)"
   ]
  },
  {
   "cell_type": "code",
   "execution_count": 23,
   "metadata": {},
   "outputs": [
    {
     "data": {
      "text/plain": [
       "69.49941792782305"
      ]
     },
     "execution_count": 23,
     "metadata": {},
     "output_type": "execute_result"
    }
   ],
   "source": [
    "#precision\n",
    "TP*100/(TP+FP)"
   ]
  },
  {
   "cell_type": "code",
   "execution_count": 24,
   "metadata": {},
   "outputs": [
    {
     "data": {
      "text/plain": [
       "34.830805134189035"
      ]
     },
     "execution_count": 24,
     "metadata": {},
     "output_type": "execute_result"
    }
   ],
   "source": [
    "#recall\n",
    "TP*100/(TP+FN)"
   ]
  },
  {
   "cell_type": "code",
   "execution_count": null,
   "metadata": {},
   "outputs": [],
   "source": [
    "y_true = train.iloc[:,1]\n",
    "y_probas = test['Actual_prob']\n",
    "skplt.metrics.plot_roc_curve(y_true, y_probas)\n",
    "plt.show()"
   ]
  },
  {
   "cell_type": "code",
   "execution_count": 138,
   "metadata": {},
   "outputs": [],
   "source": [
    "probs = NB_model.predict_proba(X_test)\n",
    "preds = probs[:,1]\n",
    "fpr, tpr, threshold = metrics.roc_curve(y_test, preds)\n",
    "roc_auc = metrics.auc(fpr, tpr)"
   ]
  },
  {
   "cell_type": "code",
   "execution_count": 142,
   "metadata": {},
   "outputs": [
    {
     "data": {
      "image/png": "[encoded data removed]",
      "text/plain": [
       "<Figure size 432x288 with 1 Axes>"
      ]
     },
     "metadata": {
      "needs_background": "light"
     },
     "output_type": "display_data"
    }
   ],
   "source": [
    "plt.title('AUC CURVE')\n",
    "plt.plot(fpr, tpr, 'b', label = 'AUC = %0.2f' % roc_auc)\n",
    "plt.legend(loc = 'lower right')\n",
    "plt.plot([0, 1], [0, 1],'r--')\n",
    "plt.xlim([0, 1])\n",
    "plt.ylim([0, 1])\n",
    "plt.ylabel('True Positive Rate')\n",
    "plt.xlabel('False Positive Rate')\n",
    "plt.show()"
   ]
  },
  {
   "cell_type": "code",
   "execution_count": null,
   "metadata": {},
   "outputs": [],
   "source": [
    "#Naivye Baiyse\n",
    "#Accuracy = 92.2\n",
    "#Precision = 71.6 \n",
    "#recall = 35.8\n",
    "#FNR = 63.1\n",
    "#AUC = 0.89\n"
   ]
  }
 ],
 "metadata": {
  "kernelspec": {
   "display_name": "Python 3",
   "language": "python",
   "name": "python3"
  },
  "language_info": {
   "codemirror_mode": {
    "name": "ipython",
    "version": 3
   },
   "file_extension": ".py",
   "mimetype": "text/x-python",
   "name": "python",
   "nbconvert_exporter": "python",
   "pygments_lexer": "ipython3",
   "version": "3.7.3"
  }
 },
 "nbformat": 4,
 "nbformat_minor": 2
}
